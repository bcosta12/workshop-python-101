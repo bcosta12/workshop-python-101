{
 "cells": [
  {
   "cell_type": "markdown",
   "metadata": {},
   "source": [
    "**Instalar bibliotecas necessárias para essas Demo**"
   ]
  },
  {
   "cell_type": "code",
   "execution_count": 1,
   "metadata": {},
   "outputs": [
    {
     "name": "stdout",
     "output_type": "stream",
     "text": [
      "Requirement already satisfied: gspread in /anaconda3/lib/python3.7/site-packages (3.1.0)\n",
      "Requirement already satisfied: oauth2client in /anaconda3/lib/python3.7/site-packages (4.1.3)\n",
      "Requirement already satisfied: pandas in /anaconda3/lib/python3.7/site-packages (0.23.4)\n",
      "Requirement already satisfied: requests>=2.2.1 in /anaconda3/lib/python3.7/site-packages (from gspread) (2.21.0)\n",
      "Requirement already satisfied: rsa>=3.1.4 in /anaconda3/lib/python3.7/site-packages (from oauth2client) (4.0)\n",
      "Requirement already satisfied: six>=1.6.1 in /anaconda3/lib/python3.7/site-packages (from oauth2client) (1.12.0)\n",
      "Requirement already satisfied: pyasn1>=0.1.7 in /anaconda3/lib/python3.7/site-packages (from oauth2client) (0.4.5)\n",
      "Requirement already satisfied: httplib2>=0.9.1 in /anaconda3/lib/python3.7/site-packages (from oauth2client) (0.12.3)\n",
      "Requirement already satisfied: pyasn1-modules>=0.0.5 in /anaconda3/lib/python3.7/site-packages (from oauth2client) (0.2.5)\n",
      "Requirement already satisfied: python-dateutil>=2.5.0 in /anaconda3/lib/python3.7/site-packages (from pandas) (2.7.5)\n",
      "Requirement already satisfied: pytz>=2011k in /anaconda3/lib/python3.7/site-packages (from pandas) (2018.7)\n",
      "Requirement already satisfied: numpy>=1.9.0 in /anaconda3/lib/python3.7/site-packages (from pandas) (1.15.4)\n",
      "Requirement already satisfied: chardet<3.1.0,>=3.0.2 in /anaconda3/lib/python3.7/site-packages (from requests>=2.2.1->gspread) (3.0.4)\n",
      "Requirement already satisfied: urllib3<1.25,>=1.21.1 in /anaconda3/lib/python3.7/site-packages (from requests>=2.2.1->gspread) (1.24.1)\n",
      "Requirement already satisfied: idna<2.9,>=2.5 in /anaconda3/lib/python3.7/site-packages (from requests>=2.2.1->gspread) (2.8)\n",
      "Requirement already satisfied: certifi>=2017.4.17 in /anaconda3/lib/python3.7/site-packages (from requests>=2.2.1->gspread) (2018.11.29)\n",
      "\u001b[33mWARNING: You are using pip version 19.1, however version 19.1.1 is available.\n",
      "You should consider upgrading via the 'pip install --upgrade pip' command.\u001b[0m\n"
     ]
    }
   ],
   "source": [
    "!pip install gspread oauth2client pandas"
   ]
  },
  {
   "cell_type": "markdown",
   "metadata": {},
   "source": [
    "# 102 Manipulando o gsheet\n",
    "\n",
    "Não se procupe com esses dois próximos blocos, eles se repetem para qualquer caso, então não precisa decorar."
   ]
  },
  {
   "cell_type": "code",
   "execution_count": 1,
   "metadata": {},
   "outputs": [],
   "source": [
    "import json, gspread\n",
    "import pandas as pd\n",
    "from oauth2client.service_account import ServiceAccountCredentials"
   ]
  },
  {
   "cell_type": "code",
   "execution_count": 14,
   "metadata": {},
   "outputs": [],
   "source": [
    "def encontrar_nome(nome):\n",
    "    try:\n",
    "        cell = worksheet.find(nome)\n",
    "        return cell\n",
    "    except:\n",
    "        return('Não encontrado')\n",
    "def print_ws_as_table(worksheet):\n",
    "    df = pd.DataFrame(worksheet.get_all_records()) \n",
    "    print(df)\n",
    "    df = 0\n",
    "\n",
    "def limpar_worksheet(intervalo):\n",
    "    cell_list = worksheet.range(intervalo)\n",
    "\n",
    "    for cell in cell_list:\n",
    "        cell.value = ''\n",
    "    ret = worksheet.update_cells(cell_list)\n",
    "\n",
    "def init(SHEET_NAME):\n",
    "    worksheet = None\n",
    "    try:\n",
    "        scope = ['https://spreadsheets.google.com/feeds','https://www.googleapis.com/auth/drive']\n",
    "        credentials = ServiceAccountCredentials.from_json_keyfile_name('credentials.json', scope)\n",
    "        gc = gspread.authorize(credentials)\n",
    "        worksheet = gc.open(SHEET_NAME).sheet1\n",
    "    except:\n",
    "        print('Essa Tabela não existe ou não foi compartilhada com este Robô.')\n",
    "    return worksheet"
   ]
  },
  {
   "cell_type": "markdown",
   "metadata": {},
   "source": [
    "# Comece a editar aqui"
   ]
  },
  {
   "cell_type": "code",
   "execution_count": 16,
   "metadata": {},
   "outputs": [],
   "source": [
    "SHEET_NAME = '102-workshop-python' # coloque o nome da sua planilha aqui\n",
    "worksheet = init(SHEET_NAME) # worksheet é a tabela do gsheet que você usará para trabalhar"
   ]
  },
  {
   "cell_type": "markdown",
   "metadata": {},
   "source": [
    "# Atualizando a Planilha"
   ]
  },
  {
   "cell_type": "code",
   "execution_count": 17,
   "metadata": {},
   "outputs": [],
   "source": [
    "ret = worksheet.update_acell('A1', 'Cidade') # Atualza uma célula\n",
    "ret = worksheet.update_acell('B1', 'Bairro') # Atualza uma célula"
   ]
  },
  {
   "cell_type": "code",
   "execution_count": 18,
   "metadata": {},
   "outputs": [],
   "source": [
    "ret = worksheet.update_cell(2, 1, 'Rio de Janeiro') # Atualiza uma célula por linha e coluna\n",
    "ret = worksheet.update_cell(2, 2, 'Centro') # Atualiza uma célula por linha e coluna"
   ]
  },
  {
   "cell_type": "code",
   "execution_count": 19,
   "metadata": {},
   "outputs": [],
   "source": [
    "# Atualizando um intervalo\n",
    "cell_list = worksheet.range('C1:F2')\n",
    "\n",
    "for cell in cell_list:\n",
    "    if cell.col == 3:\n",
    "        cell.value = 'C'\n",
    "    elif cell.col ==4:\n",
    "        cell.value = 'D'\n",
    "    elif cell.col ==5:\n",
    "        cell.value = 'E'\n",
    "\n",
    "ret = worksheet.update_cells(cell_list) # update"
   ]
  },
  {
   "cell_type": "code",
   "execution_count": 20,
   "metadata": {},
   "outputs": [
    {
     "name": "stdout",
     "output_type": "stream",
     "text": [
      "   Bairro  C          Cidade  D  E\n",
      "0  Centro  C  Rio de Janeiro  D  E\n"
     ]
    }
   ],
   "source": [
    "# Confira as mudanças\n",
    "print_ws_as_table(worksheet)"
   ]
  },
  {
   "cell_type": "markdown",
   "metadata": {},
   "source": [
    "# Exemplo: construindo uma tabela de Cliente, Telefone e E-Mail\n"
   ]
  },
  {
   "cell_type": "code",
   "execution_count": 21,
   "metadata": {},
   "outputs": [],
   "source": [
    "# limpando o a planilha\n",
    "# Atualizando um intervalo\n",
    "limpar_worksheet('A1:E2')"
   ]
  },
  {
   "cell_type": "code",
   "execution_count": 22,
   "metadata": {},
   "outputs": [],
   "source": [
    "# Definindo o nome das colunas\n",
    "ret = worksheet.update_acell('A1', 'Cliente')\n",
    "ret = worksheet.update_acell('B1', 'Telefone')\n",
    "ret = worksheet.update_acell('C1', 'E-Mail')"
   ]
  },
  {
   "cell_type": "code",
   "execution_count": 23,
   "metadata": {},
   "outputs": [],
   "source": [
    "# Definindo o nome das colunas\n",
    "ret = worksheet.update_acell('A2', 'Jeff Bot')\n",
    "ret = worksheet.update_acell('B2', '12345678')\n",
    "ret = worksheet.update_acell('C2', 'jeff@bot.com')"
   ]
  },
  {
   "cell_type": "markdown",
   "metadata": {},
   "source": [
    "# Encontrar um nome na tabela"
   ]
  },
  {
   "cell_type": "code",
   "execution_count": 24,
   "metadata": {},
   "outputs": [
    {
     "data": {
      "text/plain": [
       "'Não encontrado'"
      ]
     },
     "execution_count": 24,
     "metadata": {},
     "output_type": "execute_result"
    }
   ],
   "source": [
    "encontrar_nome('Bernardo')"
   ]
  },
  {
   "cell_type": "code",
   "execution_count": 25,
   "metadata": {},
   "outputs": [
    {
     "data": {
      "text/plain": [
       "<Cell R2C1 'Jeff Bot'>"
      ]
     },
     "execution_count": 25,
     "metadata": {},
     "output_type": "execute_result"
    }
   ],
   "source": [
    "cell = encontrar_nome('Jeff Bot')\n",
    "print(cell.col, cell.row)"
   ]
  }
 ],
 "metadata": {
  "kernelspec": {
   "display_name": "Python 3",
   "language": "python",
   "name": "python3"
  },
  "language_info": {
   "codemirror_mode": {
    "name": "ipython",
    "version": 3
   },
   "file_extension": ".py",
   "mimetype": "text/x-python",
   "name": "python",
   "nbconvert_exporter": "python",
   "pygments_lexer": "ipython3",
   "version": "3.7.1"
  }
 },
 "nbformat": 4,
 "nbformat_minor": 2
}
