{
 "cells": [
  {
   "cell_type": "code",
   "execution_count": 23,
   "metadata": {},
   "outputs": [
    {
     "name": "stdout",
     "output_type": "stream",
     "text": [
      "Requirement already satisfied: numpy in /anaconda3/lib/python3.7/site-packages (1.15.4)\n",
      "\u001b[33mWARNING: You are using pip version 19.1, however version 19.1.1 is available.\n",
      "You should consider upgrading via the 'pip install --upgrade pip' command.\u001b[0m\n"
     ]
    }
   ],
   "source": [
    "!pip install numpy"
   ]
  },
  {
   "cell_type": "markdown",
   "metadata": {},
   "source": [
    "# Prática 101 - Introdução ao Python"
   ]
  },
  {
   "cell_type": "markdown",
   "metadata": {},
   "source": [
    "Antes de começar a programar com o Python, existem algumas coisas que você deve saber, como:\n",
    "1. Seu código irá executar (quase sempre) de maneira sequencial, linha por linha.\n",
    "2. Tudo que você escreve em python é traduzido para uma linguagem que o computador consiga entender, logo, para você conseguir ver o que o computador está fazendo, você precisa saber 'printar' na tela.\n",
    "3. Para executar o código de uma célula, basta teclar \"shift+enter\" ou clicar no play."
   ]
  },
  {
   "cell_type": "markdown",
   "metadata": {},
   "source": [
    "## Função print\n",
    "\n",
    "Para printar qualquer coisa, basta executar a função \"print('X')\", onde X é o texto que você quer printar."
   ]
  },
  {
   "cell_type": "code",
   "execution_count": 3,
   "metadata": {},
   "outputs": [
    {
     "name": "stdout",
     "output_type": "stream",
     "text": [
      "#20 Kendoo Talks - Workshop Python 101\n"
     ]
    }
   ],
   "source": [
    "print('#20 Kendoo Talks - Workshop Python 101')"
   ]
  },
  {
   "cell_type": "markdown",
   "metadata": {},
   "source": [
    "## Váriaveis\n",
    "\n",
    "Guardar informação na memória é importante para realizar tarefas. \n",
    "Em Python, simplesmente escreve o nome da varíavel que você quer guardar a informação, seguido de igual, exemplo:"
   ]
  },
  {
   "cell_type": "code",
   "execution_count": 4,
   "metadata": {},
   "outputs": [],
   "source": [
    "cidade = 'Rio de Janeiro' # para textos\n",
    "idade = 454 # para números inteiros\n",
    "temperatura_media =  23.2 # para números decimais"
   ]
  },
  {
   "cell_type": "markdown",
   "metadata": {},
   "source": [
    "Experimente printar na tela cada variável que você criou:\n",
    "Ex: print(cidade)"
   ]
  },
  {
   "cell_type": "code",
   "execution_count": 5,
   "metadata": {},
   "outputs": [
    {
     "name": "stdout",
     "output_type": "stream",
     "text": [
      "Rio de Janeiro\n",
      "454\n",
      "23.2\n"
     ]
    }
   ],
   "source": [
    "print(cidade)\n",
    "print(idade)\n",
    "print(temperatura_media)"
   ]
  },
  {
   "cell_type": "markdown",
   "metadata": {},
   "source": [
    "# Listas\n",
    "\n",
    "Além de váriaveis, você pode querer usar uma lista para representar dados.\n",
    "Veja como ficaria a lista com alguns bairros do Rio de Janeiro."
   ]
  },
  {
   "cell_type": "code",
   "execution_count": 7,
   "metadata": {},
   "outputs": [
    {
     "name": "stdout",
     "output_type": "stream",
     "text": [
      "['Centro', 'Flamengo', 'Botafogo', 'Copacabana']\n"
     ]
    }
   ],
   "source": [
    "bairros_rj = ['Centro', 'Flamengo', 'Botafogo', 'Copacabana']\n",
    "print(bairros_rj)"
   ]
  },
  {
   "cell_type": "markdown",
   "metadata": {},
   "source": [
    "# Condicionais\n",
    "\n",
    "Em muitos casos, precisamos executar uma tarefa apenas se uma variável tiver determinado valor, por exemplo: Se o dia for igual a sexta, então que sextou, se não, diga qual dia é hoje."
   ]
  },
  {
   "cell_type": "code",
   "execution_count": 17,
   "metadata": {},
   "outputs": [
    {
     "name": "stdout",
     "output_type": "stream",
     "text": [
      "Sextou!\n"
     ]
    }
   ],
   "source": [
    "dia_de_hoje = 'Sexta'\n",
    "\n",
    "if dia_de_hoje == 'Sexta':\n",
    "    print('Sextou!')\n",
    "else:\n",
    "    print(dia_de_hoje)"
   ]
  },
  {
   "cell_type": "markdown",
   "metadata": {},
   "source": [
    "\n",
    "**Troque o dia_de_hoje por outro dia qualquer e execute novamente a célulca acima**"
   ]
  },
  {
   "cell_type": "markdown",
   "metadata": {},
   "source": [
    "# Bibliotecas\n",
    "\n",
    "As bibliotecas são códigos feitos por outras pessoas, que nós podemos utilizar para evitar trabalho repetitivo. Por exemplo, a fómula de calcular a média de uma lista de números é sempre a mesma, então criaram uma função (como o print) para fazer isso de forma mais fácil.\n",
    "\n",
    "Para importar uma biblioteca basta digitar\n",
    "\n",
    "**import _nome_da_biblioteca_**\n",
    "\n",
    "por exemplo, para calcular a média de uma lista de números, existe a biblioteca numpy, que é uma lib para matemática."
   ]
  },
  {
   "cell_type": "code",
   "execution_count": 18,
   "metadata": {},
   "outputs": [
    {
     "name": "stdout",
     "output_type": "stream",
     "text": [
      "5.0\n"
     ]
    }
   ],
   "source": [
    "import numpy\n",
    "\n",
    "lista_de_numeros = [1, 2, 3, 4, 5, 6, 7, 8, 9]\n",
    "media = numpy.mean(lista_de_numeros)\n",
    "print(media)"
   ]
  },
  {
   "cell_type": "markdown",
   "metadata": {},
   "source": [
    "**Mas como saber como usar as bibliotecas e quais funções elas têm?**\n",
    "\n",
    "Pesquisa no Google a documentação de cada uma antes de usar. Existem bibliotecas para fazer coisas simples, como calcular a média, até coisas complexas como realizar uma chamada HTTP"
   ]
  },
  {
   "cell_type": "markdown",
   "metadata": {},
   "source": [
    "# Por fim, Funções\n",
    "\n",
    "Nós podemos implementar nossas próprias funções e usá-las a qualquer momento,\n",
    "A *fórmula* abaixo monstra o que é preciso para criar uma funcão e como chamá-la."
   ]
  },
  {
   "cell_type": "code",
   "execution_count": 19,
   "metadata": {},
   "outputs": [],
   "source": [
    "\"\"\"\n",
    "Uma função precisa de:\n",
    "\n",
    "nome: nome que vamos usar para chamá-la, como print\n",
    "parâmetros: dados que vamos passar para nossa função calcular\n",
    "retorno: valor que ela retorna para quem a chamar\n",
    "\"\"\"\n",
    "\n",
    "def soma_dois_numeros(a, b):\n",
    "    c = a + b\n",
    "    return c"
   ]
  },
  {
   "cell_type": "markdown",
   "metadata": {},
   "source": [
    "Agora sempre que chamarmos *soma_dois_numeros* e passarmos dois números, ela nos retornará a soma desses números."
   ]
  },
  {
   "cell_type": "code",
   "execution_count": 22,
   "metadata": {},
   "outputs": [
    {
     "name": "stdout",
     "output_type": "stream",
     "text": [
      "15 8898 121\n"
     ]
    }
   ],
   "source": [
    "a = 22\n",
    "b = 99\n",
    "\n",
    "resposta1 = soma_dois_numeros(10, 5)\n",
    "resposta2 = soma_dois_numeros(10, 8888)\n",
    "resposta3 = soma_dois_numeros(a, b)\n",
    "print(resposta1, resposta2, resposta3)"
   ]
  }
 ],
 "metadata": {
  "kernelspec": {
   "display_name": "Python 3",
   "language": "python",
   "name": "python3"
  },
  "language_info": {
   "codemirror_mode": {
    "name": "ipython",
    "version": 3
   },
   "file_extension": ".py",
   "mimetype": "text/x-python",
   "name": "python",
   "nbconvert_exporter": "python",
   "pygments_lexer": "ipython3",
   "version": "3.7.1"
  }
 },
 "nbformat": 4,
 "nbformat_minor": 2
}
